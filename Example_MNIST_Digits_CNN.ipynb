{
  "nbformat": 4,
  "nbformat_minor": 0,
  "metadata": {
    "colab": {
      "provenance": [],
      "authorship_tag": "ABX9TyMa3iWAiX1M8dqCWw3qQm/v",
      "include_colab_link": true
    },
    "kernelspec": {
      "name": "python3",
      "display_name": "Python 3"
    },
    "language_info": {
      "name": "python"
    }
  },
  "cells": [
    {
      "cell_type": "markdown",
      "metadata": {
        "id": "view-in-github",
        "colab_type": "text"
      },
      "source": [
        "<a href=\"https://colab.research.google.com/github/iaagulo/SINSM/blob/main/Example_MNIST_Digits_CNN.ipynb\" target=\"_parent\"><img src=\"https://colab.research.google.com/assets/colab-badge.svg\" alt=\"Open In Colab\"/></a>"
      ]
    },
    {
      "cell_type": "markdown",
      "source": [
        "##**Classification of Written Digits**"
      ],
      "metadata": {
        "id": "Cx-xjMmrn9YP"
      }
    },
    {
      "cell_type": "markdown",
      "source": [
        "####**Importing the Necessary Libraries**"
      ],
      "metadata": {
        "id": "SmmMWPBIoVZ6"
      }
    },
    {
      "cell_type": "code",
      "execution_count": null,
      "metadata": {
        "id": "7B78bGpln72R"
      },
      "outputs": [],
      "source": [
        "import numpy as np\n",
        "import matplotlib.pyplot as plt\n",
        "import pandas as pd\n",
        "\n",
        "import tensorflow as tf\n",
        "from tensorflow import keras\n",
        "from tensorflow.keras.models import Sequential\n",
        "from tensorflow.keras.layers import Dense, Conv2D, Dropout, Flatten, MaxPooling2D\n",
        "\n",
        "from sklearn.metrics import confusion_matrix, ConfusionMatrixDisplay"
      ]
    },
    {
      "cell_type": "markdown",
      "source": [
        "####**Loading the MNIST Digits Dataset**"
      ],
      "metadata": {
        "id": "_lQlilLLp8mB"
      }
    },
    {
      "cell_type": "code",
      "source": [
        "(X_train, y_train), (X_test, y_test) = keras.datasets.mnist.load_data()"
      ],
      "metadata": {
        "id": "mSdndJYwpICL",
        "colab": {
          "base_uri": "https://localhost:8080/"
        },
        "outputId": "45a2691c-e112-424a-83c0-8cafdafb475a"
      },
      "execution_count": null,
      "outputs": [
        {
          "output_type": "stream",
          "name": "stdout",
          "text": [
            "Downloading data from https://storage.googleapis.com/tensorflow/tf-keras-datasets/mnist.npz\n",
            "11490434/11490434 [==============================] - 0s 0us/step\n"
          ]
        }
      ]
    },
    {
      "cell_type": "markdown",
      "source": [
        "There are 60,000 sample training images of the digits between 0 and 9. Each digit has 28 x 28 pixels."
      ],
      "metadata": {
        "id": "ddLLoZDpI7X3"
      }
    },
    {
      "cell_type": "code",
      "source": [
        "X_train.shape"
      ],
      "metadata": {
        "id": "UJG_n17eqr-5",
        "colab": {
          "base_uri": "https://localhost:8080/"
        },
        "outputId": "95bb082a-7a7d-4627-af15-f78d3ae34021"
      },
      "execution_count": null,
      "outputs": [
        {
          "output_type": "execute_result",
          "data": {
            "text/plain": [
              "(60000, 28, 28)"
            ]
          },
          "metadata": {},
          "execution_count": 3
        }
      ]
    },
    {
      "cell_type": "markdown",
      "source": [
        "Consider the 201st digit in the data set. Here are the pixel values. Zero corresponds to black and 255 corresponds to white."
      ],
      "metadata": {
        "id": "uxq2ia8T3nMa"
      }
    },
    {
      "cell_type": "code",
      "source": [
        "X_train[200]"
      ],
      "metadata": {
        "id": "e8CQa6hGJXy1",
        "colab": {
          "base_uri": "https://localhost:8080/"
        },
        "outputId": "0ea6148e-3eb4-4a31-d94a-62ad4bdb6b47"
      },
      "execution_count": null,
      "outputs": [
        {
          "output_type": "execute_result",
          "data": {
            "text/plain": [
              "array([[  0,   0,   0,   0,   0,   0,   0,   0,   0,   0,   0,   0,   0,\n",
              "          0,   0,   0,   0,   0,   0,   0,   0,   0,   0,   0,   0,   0,\n",
              "          0,   0],\n",
              "       [  0,   0,   0,   0,   0,   0,   0,   0,   0,   0,   0,   0,   0,\n",
              "          0,   0,   0,   0,   0,   0,   0,   0,   0,   0,   0,   0,   0,\n",
              "          0,   0],\n",
              "       [  0,   0,   0,   0,   0,   0,   0,   0,   0,   0,   0,   0,   0,\n",
              "          0,   0,   0,   0,   0,   0,   0,   0,   0,   0,   0,   0,   0,\n",
              "          0,   0],\n",
              "       [  0,   0,   0,   0,   0,   0,   0,   0,   0,   0,   0,   0,   0,\n",
              "          0,   0,   0,   0,   0,   0,   0,   0,   0,   0,   0,   0,   0,\n",
              "          0,   0],\n",
              "       [  0,   0,   0,   0,   0,   0,   0,   0,   0,   0,   0,  29, 197,\n",
              "        255,  84,   0,   0,   0,   0,   0,   0,   0,   0,   0,   0,   0,\n",
              "          0,   0],\n",
              "       [  0,   0,   0,   0,   0,   0,   0,   0,   0,   0,   0,  85, 251,\n",
              "        253,  83,   0,   0,   0,   0,   0,   0,   0,   0,   0,   0,   0,\n",
              "          0,   0],\n",
              "       [  0,   0,   0,   0,   0,   0,   0,   0,   0,   0,   0,  86, 253,\n",
              "        254, 253,   0,   0,   0,   0,   0,   0,   0,   0,   0,   0,   0,\n",
              "          0,   0],\n",
              "       [  0,   0,   0,   0,   0,   0,   0,   0,   0,   0,   0,  85, 251,\n",
              "        253, 251,   0,   0,   0,   0,   0,   0,   0,   0,   0,   0,   0,\n",
              "          0,   0],\n",
              "       [  0,   0,   0,   0,   0,   0,   0,   0,   0,   0,   0,  86, 253,\n",
              "        254, 253, 169,   0,   0,   0,   0,   0,   0,   0,   0,   0,   0,\n",
              "          0,   0],\n",
              "       [  0,   0,   0,   0,   0,   0,   0,   0,   0,   0,   0,  85, 251,\n",
              "        253, 251, 168,   0,   0,   0,   0,   0,   0,   0,   0,   0,   0,\n",
              "          0,   0],\n",
              "       [  0,   0,   0,   0,   0,   0,   0,   0,   0,   0,   0,  86, 253,\n",
              "        254, 253, 169,   0,   0,   0,   0,   0,   0,   0,   0,   0,   0,\n",
              "          0,   0],\n",
              "       [  0,   0,   0,   0,   0,   0,   0,   0,   0,   0,   0,  28, 196,\n",
              "        253, 251, 168,   0,   0,   0,   0,   0,   0,   0,   0,   0,   0,\n",
              "          0,   0],\n",
              "       [  0,   0,   0,   0,   0,   0,   0,   0,   0,   0,   0,   0, 169,\n",
              "        254, 253, 169,   0,   0,   0,   0,   0,   0,   0,   0,   0,   0,\n",
              "          0,   0],\n",
              "       [  0,   0,   0,   0,   0,   0,   0,   0,   0,   0,   0,   0, 168,\n",
              "        253, 251, 168,   0,   0,   0,   0,   0,   0,   0,   0,   0,   0,\n",
              "          0,   0],\n",
              "       [  0,   0,   0,   0,   0,   0,   0,   0,   0,   0,   0,   0, 169,\n",
              "        254, 253, 169,   0,   0,   0,   0,   0,   0,   0,   0,   0,   0,\n",
              "          0,   0],\n",
              "       [  0,   0,   0,   0,   0,   0,   0,   0,   0,   0,   0,   0, 168,\n",
              "        253, 251, 168,   0,   0,   0,   0,   0,   0,   0,   0,   0,   0,\n",
              "          0,   0],\n",
              "       [  0,   0,   0,   0,   0,   0,   0,   0,   0,   0,   0,   0,   0,\n",
              "        254, 253, 254, 139,   0,   0,   0,   0,   0,   0,   0,   0,   0,\n",
              "          0,   0],\n",
              "       [  0,   0,   0,   0,   0,   0,   0,   0,   0,   0,   0,   0,   0,\n",
              "        253, 251, 253, 251,   0,   0,   0,   0,   0,   0,   0,   0,   0,\n",
              "          0,   0],\n",
              "       [  0,   0,   0,   0,   0,   0,   0,   0,   0,   0,   0,   0,   0,\n",
              "        254, 253, 254, 253,  57,   0,   0,   0,   0,   0,   0,   0,   0,\n",
              "          0,   0],\n",
              "       [  0,   0,   0,   0,   0,   0,   0,   0,   0,   0,   0,   0,   0,\n",
              "        253, 251, 253, 251, 168,   0,   0,   0,   0,   0,   0,   0,   0,\n",
              "          0,   0],\n",
              "       [  0,   0,   0,   0,   0,   0,   0,   0,   0,   0,   0,   0,   0,\n",
              "        198, 253, 254, 253, 114,   0,   0,   0,   0,   0,   0,   0,   0,\n",
              "          0,   0],\n",
              "       [  0,   0,   0,   0,   0,   0,   0,   0,   0,   0,   0,   0,   0,\n",
              "         85, 251, 253, 251,   0,   0,   0,   0,   0,   0,   0,   0,   0,\n",
              "          0,   0],\n",
              "       [  0,   0,   0,   0,   0,   0,   0,   0,   0,   0,   0,   0,   0,\n",
              "         85, 253, 254, 253,   0,   0,   0,   0,   0,   0,   0,   0,   0,\n",
              "          0,   0],\n",
              "       [  0,   0,   0,   0,   0,   0,   0,   0,   0,   0,   0,   0,   0,\n",
              "         28,  83, 196,  83,   0,   0,   0,   0,   0,   0,   0,   0,   0,\n",
              "          0,   0],\n",
              "       [  0,   0,   0,   0,   0,   0,   0,   0,   0,   0,   0,   0,   0,\n",
              "          0,   0,   0,   0,   0,   0,   0,   0,   0,   0,   0,   0,   0,\n",
              "          0,   0],\n",
              "       [  0,   0,   0,   0,   0,   0,   0,   0,   0,   0,   0,   0,   0,\n",
              "          0,   0,   0,   0,   0,   0,   0,   0,   0,   0,   0,   0,   0,\n",
              "          0,   0],\n",
              "       [  0,   0,   0,   0,   0,   0,   0,   0,   0,   0,   0,   0,   0,\n",
              "          0,   0,   0,   0,   0,   0,   0,   0,   0,   0,   0,   0,   0,\n",
              "          0,   0],\n",
              "       [  0,   0,   0,   0,   0,   0,   0,   0,   0,   0,   0,   0,   0,\n",
              "          0,   0,   0,   0,   0,   0,   0,   0,   0,   0,   0,   0,   0,\n",
              "          0,   0]], dtype=uint8)"
            ]
          },
          "metadata": {},
          "execution_count": 4
        }
      ]
    },
    {
      "cell_type": "markdown",
      "source": [
        "Here is the 201st label. "
      ],
      "metadata": {
        "id": "T244upBa30oR"
      }
    },
    {
      "cell_type": "code",
      "source": [
        "y_train[200]"
      ],
      "metadata": {
        "id": "V9PGQJmLJbql",
        "colab": {
          "base_uri": "https://localhost:8080/"
        },
        "outputId": "4bd75908-675f-4f18-e9f5-4a38c1749192"
      },
      "execution_count": null,
      "outputs": [
        {
          "output_type": "execute_result",
          "data": {
            "text/plain": [
              "1"
            ]
          },
          "metadata": {},
          "execution_count": 5
        }
      ]
    },
    {
      "cell_type": "markdown",
      "source": [
        "We now show the image corresponding to the 201st digit. It should show the same digit as the 201st label."
      ],
      "metadata": {
        "id": "0l9eWUz334eX"
      }
    },
    {
      "cell_type": "code",
      "source": [
        "plt.matshow(X_train[200])"
      ],
      "metadata": {
        "id": "OuDGHfavJf6c",
        "colab": {
          "base_uri": "https://localhost:8080/",
          "height": 454
        },
        "outputId": "ee7330ad-2bf6-4ff8-c52d-c2eb7c7045d6"
      },
      "execution_count": null,
      "outputs": [
        {
          "output_type": "execute_result",
          "data": {
            "text/plain": [
              "<matplotlib.image.AxesImage at 0x7f4f25a53e20>"
            ]
          },
          "metadata": {},
          "execution_count": 6
        },
        {
          "output_type": "display_data",
          "data": {
            "text/plain": [
              "<Figure size 480x480 with 1 Axes>"
            ],
            "image/png": "[encoded data removed]"
          },
          "metadata": {}
        }
      ]
    },
    {
      "cell_type": "markdown",
      "source": [
        "There are 10,000 sample test images of the digits between 0 and 9. Each digit has 28 x 28 pixels."
      ],
      "metadata": {
        "id": "WseN3cKDJTDh"
      }
    },
    {
      "cell_type": "code",
      "source": [
        "X_test.shape"
      ],
      "metadata": {
        "id": "wk99wvZPqsk7",
        "colab": {
          "base_uri": "https://localhost:8080/"
        },
        "outputId": "5c1dcb7e-df5f-4810-8cea-9e2f7bfbcb15"
      },
      "execution_count": null,
      "outputs": [
        {
          "output_type": "execute_result",
          "data": {
            "text/plain": [
              "(10000, 28, 28)"
            ]
          },
          "metadata": {},
          "execution_count": 7
        }
      ]
    },
    {
      "cell_type": "markdown",
      "source": [
        "Again, here is the 201st test digit."
      ],
      "metadata": {
        "id": "7ENWmekN4RH8"
      }
    },
    {
      "cell_type": "code",
      "source": [
        "X_test[200]"
      ],
      "metadata": {
        "id": "htTQE8dlqznc",
        "colab": {
          "base_uri": "https://localhost:8080/"
        },
        "outputId": "8567eb82-8bb0-49fc-b35e-2d8f7a986a45"
      },
      "execution_count": null,
      "outputs": [
        {
          "output_type": "execute_result",
          "data": {
            "text/plain": [
              "array([[  0,   0,   0,   0,   0,   0,   0,   0,   0,   0,   0,   0,   0,\n",
              "          0,   0,   0,   0,   0,   0,   0,   0,   0,   0,   0,   0,   0,\n",
              "          0,   0],\n",
              "       [  0,   0,   0,   0,   0,   0,   0,   0,   0,   0,   0,   0,   0,\n",
              "          0,   0,   0,   0,   0,   0,   0,   0,   0,   0,   0,   0,   0,\n",
              "          0,   0],\n",
              "       [  0,   0,   0,   0,   0,   0,   0,   0,   0,   0,   0,   0,   0,\n",
              "          0,   0,   0,   0,   0,   0,   0,   0,   0,   0,   0,   0,   0,\n",
              "          0,   0],\n",
              "       [  0,   0,   0,   0,   0,   0,   0,   0,   0,   0,   0,   0,   0,\n",
              "          0,   0,   0,   0,   0,   0,   0,   0,   0,   0,   0,   0,   0,\n",
              "          0,   0],\n",
              "       [  0,   0,   0,   0,   0,   0,   0,   0,   0,  79, 109, 255, 253,\n",
              "        253, 253, 255, 253, 253, 170,  63,   0,   0,   0,   0,   0,   0,\n",
              "          0,   0],\n",
              "       [  0,   0,   0,   0,   0,   0,   0,   0, 105, 242, 252, 253, 252,\n",
              "        252, 252, 253, 252, 252, 252, 176,  10,   0,   0,   0,   0,   0,\n",
              "          0,   0],\n",
              "       [  0,   0,   0,   0,   0,   0,   0,   0, 217, 252, 252, 253, 252,\n",
              "        252, 252, 253, 252, 252, 252, 253,  35,   0,   0,   0,   0,   0,\n",
              "          0,   0],\n",
              "       [  0,   0,   0,   0,   0,   0,   0,   0, 217, 252, 252, 253, 252,\n",
              "        252, 252, 253, 252, 252, 252, 253, 119,   0,   0,   0,   0,   0,\n",
              "          0,   0],\n",
              "       [  0,   0,   0,   0,   0,   0,   0,   0, 154, 252, 252, 253, 252,\n",
              "        252, 252, 253, 252, 252, 252, 253, 179,   0,   0,   0,   0,   0,\n",
              "          0,   0],\n",
              "       [  0,   0,   0,   0,   0,   0,   0,   0,  52, 179, 179,  35,  35,\n",
              "         35, 159, 253, 252, 252, 252, 253, 138,   0,   0,   0,   0,   0,\n",
              "          0,   0],\n",
              "       [  0,   0,   0,   0,   0,   0,   0,   0,   0,   0,   0,  16,  37,\n",
              "        140, 221, 253, 252, 252, 252, 175,  10,   0,   0,   0,   0,   0,\n",
              "          0,   0],\n",
              "       [  0,   0,   0,   0,   0,   0,   0,   0,   0,   0,   0, 191, 252,\n",
              "        252, 252, 253, 252, 252, 252, 144,   0,   0,   0,   0,   0,   0,\n",
              "          0,   0],\n",
              "       [  0,   0,   0,   0,   0,   0,   0,   0,   0, 182, 253, 255, 253,\n",
              "        253, 253, 255, 253, 253, 253, 145,   0,   0,   0,   0,   0,   0,\n",
              "          0,   0],\n",
              "       [  0,   0,   0,   0,   0,   0,   0,   0,  21, 201, 252, 253, 252,\n",
              "        252, 252, 253, 252, 252, 252, 238,  72,   0,   0,   0,   0,   0,\n",
              "          0,   0],\n",
              "       [  0,   0,   0,   0,   0,   0,   0,   0,  21, 201, 252, 253, 252,\n",
              "        252, 252, 253, 252, 252, 252, 253, 231,  52,   0,   0,   0,   0,\n",
              "          0,   0],\n",
              "       [  0,   0,   0,   0,   0,   0,   0,   0,   0, 181, 252, 253, 252,\n",
              "        252, 252, 191, 232, 252, 252, 253, 252,  71,   0,   0,   0,   0,\n",
              "          0,   0],\n",
              "       [  0,   0,   0,   0,  32, 109,  47,   0,   0, 182, 253, 255, 222,\n",
              "        125,   0,   0,  73, 253, 253, 255, 253,  72,   0,   0,   0,   0,\n",
              "          0,   0],\n",
              "       [  0,   0,   0,   0, 197, 252, 232,  42,   0,  46, 179, 180,  45,\n",
              "          0,   0,  32, 207, 252, 252, 253, 252,  71,   0,   0,   0,   0,\n",
              "          0,   0],\n",
              "       [  0,   0,   0,   0, 196, 252, 252, 221,  57,  37,  37,  37,  37,\n",
              "         37, 120, 212, 252, 252, 252, 253, 252,  71,   0,   0,   0,   0,\n",
              "          0,   0],\n",
              "       [  0,   0,   0,   0,  31, 211, 252, 252, 252, 252, 252, 253, 252,\n",
              "        252, 252, 253, 252, 252, 252, 253, 210,  31,   0,   0,   0,   0,\n",
              "          0,   0],\n",
              "       [  0,   0,   0,   0,   0, 182, 253, 253, 253, 253, 253, 255, 253,\n",
              "        253, 253, 255, 253, 253, 253, 208,  20,   0,   0,   0,   0,   0,\n",
              "          0,   0],\n",
              "       [  0,   0,   0,   0,   0,  57, 252, 252, 252, 252, 252, 253, 252,\n",
              "        252, 252, 253, 252, 252, 252, 104,   0,   0,   0,   0,   0,   0,\n",
              "          0,   0],\n",
              "       [  0,   0,   0,   0,   0,  11,  71, 133, 226, 252, 252, 253, 252,\n",
              "        252, 252, 253, 252, 205,  71,   0,   0,   0,   0,   0,   0,   0,\n",
              "          0,   0],\n",
              "       [  0,   0,   0,   0,   0,   0,   0,   0,  31, 108, 108, 253, 252,\n",
              "        252, 252, 108, 108,  31,   0,   0,   0,   0,   0,   0,   0,   0,\n",
              "          0,   0],\n",
              "       [  0,   0,   0,   0,   0,   0,   0,   0,   0,   0,   0,   0,   0,\n",
              "          0,   0,   0,   0,   0,   0,   0,   0,   0,   0,   0,   0,   0,\n",
              "          0,   0],\n",
              "       [  0,   0,   0,   0,   0,   0,   0,   0,   0,   0,   0,   0,   0,\n",
              "          0,   0,   0,   0,   0,   0,   0,   0,   0,   0,   0,   0,   0,\n",
              "          0,   0],\n",
              "       [  0,   0,   0,   0,   0,   0,   0,   0,   0,   0,   0,   0,   0,\n",
              "          0,   0,   0,   0,   0,   0,   0,   0,   0,   0,   0,   0,   0,\n",
              "          0,   0],\n",
              "       [  0,   0,   0,   0,   0,   0,   0,   0,   0,   0,   0,   0,   0,\n",
              "          0,   0,   0,   0,   0,   0,   0,   0,   0,   0,   0,   0,   0,\n",
              "          0,   0]], dtype=uint8)"
            ]
          },
          "metadata": {},
          "execution_count": 8
        }
      ]
    },
    {
      "cell_type": "markdown",
      "source": [
        "Here is the corresponding 201st label of the test digit."
      ],
      "metadata": {
        "id": "9NzYy4Tv4Uz8"
      }
    },
    {
      "cell_type": "code",
      "source": [
        "y_test[200]"
      ],
      "metadata": {
        "id": "ZIX2X3jvJ1hi",
        "colab": {
          "base_uri": "https://localhost:8080/"
        },
        "outputId": "c86cd92a-2097-49db-fe6d-7ede3308e788"
      },
      "execution_count": null,
      "outputs": [
        {
          "output_type": "execute_result",
          "data": {
            "text/plain": [
              "3"
            ]
          },
          "metadata": {},
          "execution_count": 9
        }
      ]
    },
    {
      "cell_type": "markdown",
      "source": [
        "We can see that the image shown is the same as the 201st label. "
      ],
      "metadata": {
        "id": "6qDVVGZ_4Y7_"
      }
    },
    {
      "cell_type": "code",
      "source": [
        "plt.matshow(X_test[200])"
      ],
      "metadata": {
        "id": "5CZysp1OJ4ab",
        "colab": {
          "base_uri": "https://localhost:8080/",
          "height": 454
        },
        "outputId": "d6a96f9c-ef92-47c9-a430-cbdf63a0393e"
      },
      "execution_count": null,
      "outputs": [
        {
          "output_type": "execute_result",
          "data": {
            "text/plain": [
              "<matplotlib.image.AxesImage at 0x7f4f2317e4c0>"
            ]
          },
          "metadata": {},
          "execution_count": 10
        },
        {
          "output_type": "display_data",
          "data": {
            "text/plain": [
              "<Figure size 480x480 with 1 Axes>"
            ],
            "image/png": "[encoded data removed]"
          },
          "metadata": {}
        }
      ]
    },
    {
      "cell_type": "markdown",
      "source": [
        "#####**Preparing the Data**"
      ],
      "metadata": {
        "id": "AKCTYpTN0Iq8"
      }
    },
    {
      "cell_type": "markdown",
      "source": [
        "Let's scale the data to improve the accuracy."
      ],
      "metadata": {
        "id": "9zd626NOWOX0"
      }
    },
    {
      "cell_type": "code",
      "source": [
        "X_train = X_train/255\n",
        "X_test = X_test/255"
      ],
      "metadata": {
        "id": "8InBA0lLWTeI"
      },
      "execution_count": null,
      "outputs": []
    },
    {
      "cell_type": "markdown",
      "source": [
        "Then, let's take a look at the dimensions of $X\\_train$ and $X\\_test$."
      ],
      "metadata": {
        "id": "9GGaVPugvQ5u"
      }
    },
    {
      "cell_type": "code",
      "source": [
        "print(X_train.shape)\n",
        "print(X_test.shape)"
      ],
      "metadata": {
        "id": "LS8tjK8rvTdg",
        "colab": {
          "base_uri": "https://localhost:8080/"
        },
        "outputId": "285415bc-fe21-485e-d5e6-0c07556c18ab"
      },
      "execution_count": null,
      "outputs": [
        {
          "output_type": "stream",
          "name": "stdout",
          "text": [
            "(60000, 28, 28)\n",
            "(10000, 28, 28)\n"
          ]
        }
      ]
    },
    {
      "cell_type": "markdown",
      "source": [
        "We want to convert the each of the 28 x 28 image array to a 1 x 784 array. Each of these flattened images will serve as the input layer to the neural network. We do this by using the $reshape$ command."
      ],
      "metadata": {
        "id": "8Y_IEQDIAi5p"
      }
    },
    {
      "cell_type": "code",
      "source": [
        "X_train_flat = X_train.reshape(len(X_train),28,28,1)\n",
        "X_test_flat = X_test.reshape(len(X_test),28,28,1)"
      ],
      "metadata": {
        "id": "xRb2RFi7AWtR"
      },
      "execution_count": null,
      "outputs": []
    },
    {
      "cell_type": "markdown",
      "source": [
        "Now, let's take a look at the dimensions of $X\\_train$ and $X\\_test$."
      ],
      "metadata": {
        "id": "QlsNSwwaBMzp"
      }
    },
    {
      "cell_type": "code",
      "source": [
        "print(X_train_flat.shape)\n",
        "print(X_test_flat.shape)"
      ],
      "metadata": {
        "colab": {
          "base_uri": "https://localhost:8080/"
        },
        "id": "5ait24skAYno",
        "outputId": "3273e298-120e-461f-b42d-4994f041ee4f"
      },
      "execution_count": null,
      "outputs": [
        {
          "output_type": "stream",
          "name": "stdout",
          "text": [
            "(60000, 28, 28, 1)\n",
            "(10000, 28, 28, 1)\n"
          ]
        }
      ]
    },
    {
      "cell_type": "markdown",
      "source": [
        "####**Defining the model**"
      ],
      "metadata": {
        "id": "Gh4vWGP81zPu"
      }
    },
    {
      "cell_type": "code",
      "source": [
        "model = tf.keras.models.Sequential([\n",
        "    tf.keras.layers.Conv2D(64, (3,3), activation='relu', input_shape=(28,28,1)),\n",
        "    tf.keras.layers.MaxPooling2D(2,2),\n",
        "    # tf.keras.layers.Conv2D(64, (3,3), activation='relu'),\n",
        "    # tf.keras.layers.MaxPooling2D(2,2),\n",
        "    # tf.keras.layers.Conv2D(128, (3,3), activation='relu'),\n",
        "    # tf.keras.layers.MaxPooling2D(2,2),\n",
        "    # tf.keras.layers.Conv2D(128, (3,3), activation='relu'),\n",
        "    # tf.keras.layers.MaxPooling2D(2,2),\n",
        "    tf.keras.layers.Flatten(),\n",
        "    tf.keras.layers.Dropout(0.5),\n",
        "    tf.keras.layers.Dense(512, activation='relu'),\n",
        "    tf.keras.layers.Dense(10, activation='softmax')\n",
        "])"
      ],
      "metadata": {
        "id": "kJ5wnjnx1m49"
      },
      "execution_count": null,
      "outputs": []
    },
    {
      "cell_type": "code",
      "source": [
        "model.summary()"
      ],
      "metadata": {
        "colab": {
          "base_uri": "https://localhost:8080/"
        },
        "id": "AsYkv4vh2lae",
        "outputId": "405f4eb6-ac7b-4ead-fc33-debaede808c2"
      },
      "execution_count": null,
      "outputs": [
        {
          "output_type": "stream",
          "name": "stdout",
          "text": [
            "Model: \"sequential\"\n",
            "_________________________________________________________________\n",
            " Layer (type)                Output Shape              Param #   \n",
            "=================================================================\n",
            " conv2d (Conv2D)             (None, 26, 26, 64)        640       \n",
            "                                                                 \n",
            " max_pooling2d (MaxPooling2D  (None, 13, 13, 64)       0         \n",
            " )                                                               \n",
            "                                                                 \n",
            " flatten (Flatten)           (None, 10816)             0         \n",
            "                                                                 \n",
            " dropout (Dropout)           (None, 10816)             0         \n",
            "                                                                 \n",
            " dense (Dense)               (None, 512)               5538304   \n",
            "                                                                 \n",
            " dense_1 (Dense)             (None, 10)                5130      \n",
            "                                                                 \n",
            "=================================================================\n",
            "Total params: 5,544,074\n",
            "Trainable params: 5,544,074\n",
            "Non-trainable params: 0\n",
            "_________________________________________________________________\n"
          ]
        }
      ]
    },
    {
      "cell_type": "markdown",
      "source": [
        "####**Compiling the model**"
      ],
      "metadata": {
        "id": "IMvzfBfn2wJ-"
      }
    },
    {
      "cell_type": "code",
      "source": [
        "model.compile(optimizer = 'adam',\n",
        "              loss = tf.keras.losses.SparseCategoricalCrossentropy(),\n",
        "              # loss = 'sparse_categorical_crossentropy',\n",
        "              metrics=['accuracy'])"
      ],
      "metadata": {
        "id": "d1DQ29J72mmB"
      },
      "execution_count": null,
      "outputs": []
    },
    {
      "cell_type": "markdown",
      "source": [
        "####**Training the model**"
      ],
      "metadata": {
        "id": "2R3Vp3Gt2-4L"
      }
    },
    {
      "cell_type": "code",
      "source": [
        "history = model.fit(X_train_flat, y_train, epochs=10, verbose=1)"
      ],
      "metadata": {
        "id": "PguRokJt29-a",
        "colab": {
          "base_uri": "https://localhost:8080/"
        },
        "outputId": "61a1e74e-e1f9-4950-bd77-bf49f2628a53"
      },
      "execution_count": null,
      "outputs": [
        {
          "output_type": "stream",
          "name": "stdout",
          "text": [
            "Epoch 1/10\n",
            "1112/1875 [================>.............] - ETA: 1:33 - loss: 0.1847 - accuracy: 0.9436"
          ]
        }
      ]
    },
    {
      "cell_type": "markdown",
      "source": [
        "####**Evaluating the performance**"
      ],
      "metadata": {
        "id": "ues5Uz5ZIonL"
      }
    },
    {
      "cell_type": "code",
      "source": [
        "model.evaluate(X_test_flat, y_test)"
      ],
      "metadata": {
        "id": "9X203acY3NMQ"
      },
      "execution_count": null,
      "outputs": []
    },
    {
      "cell_type": "code",
      "source": [
        "pd.DataFrame(history.history).plot(figsize=(10,6))\n",
        "plt.grid(True)\n",
        "plt.gca().set_ylim(0,1)\n",
        "plt.show()"
      ],
      "metadata": {
        "id": "a6xt1g3Q3vUh"
      },
      "execution_count": null,
      "outputs": []
    },
    {
      "cell_type": "code",
      "source": [
        "prediction = model.predict(X_test_flat)\n",
        "print(prediction)"
      ],
      "metadata": {
        "id": "OAsKkkq64Kg5"
      },
      "execution_count": null,
      "outputs": []
    },
    {
      "cell_type": "code",
      "source": [
        "print(prediction[9999])"
      ],
      "metadata": {
        "id": "Q0MwJox25uyZ"
      },
      "execution_count": null,
      "outputs": []
    },
    {
      "cell_type": "code",
      "source": [
        "np.argmax(prediction[9999])"
      ],
      "metadata": {
        "id": "DBYjSCnLcD-q"
      },
      "execution_count": null,
      "outputs": []
    },
    {
      "cell_type": "code",
      "source": [
        "plt.matshow(X_test[9999])"
      ],
      "metadata": {
        "id": "23h88Cx5btAV"
      },
      "execution_count": null,
      "outputs": []
    },
    {
      "cell_type": "code",
      "source": [
        "predicted_labels = [np.argmax(i) for i in prediction]"
      ],
      "metadata": {
        "id": "C0ytS7jSc_1M"
      },
      "execution_count": null,
      "outputs": []
    },
    {
      "cell_type": "code",
      "source": [
        "cm = confusion_matrix(y_test, prediction.argmax(axis=1))\n",
        "print(cm)"
      ],
      "metadata": {
        "id": "j1n1c5hV8DLN"
      },
      "execution_count": null,
      "outputs": []
    },
    {
      "cell_type": "code",
      "source": [
        "disp = ConfusionMatrixDisplay(confusion_matrix=cm)\n",
        "disp.plot()\n",
        "plt.show()"
      ],
      "metadata": {
        "id": "RP7lkIncBnSW"
      },
      "execution_count": null,
      "outputs": []
    },
    {
      "cell_type": "code",
      "source": [
        "# Alternative Code for Displaying Confusion Matrix\n",
        "import seaborn as sn\n",
        "plt.figure(figsize = (10,10))\n",
        "sn.heatmap(cm, annot=True, fmt='d')\n",
        "plt.xlabel('Predicted Label')\n",
        "plt.ylabel('True Label')"
      ],
      "metadata": {
        "id": "D5vf25P_d9NF"
      },
      "execution_count": null,
      "outputs": []
    },
    {
      "cell_type": "code",
      "source": [
        "accuracy = 100*np.trace(cm)/np.sum(cm)\n",
        "print(accuracy)"
      ],
      "metadata": {
        "id": "PrsS0T2TD0MI"
      },
      "execution_count": null,
      "outputs": []
    }
  ]
}